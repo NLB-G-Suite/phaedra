{
 "cells": [
  {
   "cell_type": "code",
   "execution_count": null,
   "metadata": {
    "collapsed": false
   },
   "outputs": [],
   "source": [
    "# 1.1 extract first sentences of what people are saying after they enter\n",
    "\n",
    "import glob\n",
    "from utils import in_blocklist\n",
    "\n",
    "blocklist = []\n",
    "blocklist.append('AWAYLEN=307 MAXTARGETS=20 WALLCHOPS WATCH=128 WATCHOPTS=A SILENCE=15 MODES=12 CHANTYPES=# PREFIX')\n",
    "blocklist.append('- * -')\n",
    "blocklist.append('XxXChatters.Com')\n",
    "blocklist.append('XxXChatters')\n",
    "blocklist.append('This server was created')\n",
    "blocklist.append('operator(s) online')\n",
    "blocklist.append('is now your displayed host')\n",
    "blocklist.append('Caps set:')\n",
    "blocklist.append('MAXCHANNELS')\n",
    "blocklist.append('http')\n",
    "blocklist.append('Meltdown')\n",
    "blocklist.append('14')\n",
    "\n",
    "first_sentences = []\n",
    "\n",
    "outfile = open('xxxchatters_entrance_first_words.txt', 'w')\n",
    "\n",
    "def find_post(lines_list, a):\n",
    "    for s in lines_list:\n",
    "        if s[0] is '[':\n",
    "            if s.find(\"<\") is not -1:\n",
    "                time = s[s.find(\"[\")+1:s.find(\"]\")]\n",
    "                author = s[s.find(\"<\")+1:s.find(\">\")]\n",
    "                sentence = s[s.find(\">\")+2:]\n",
    "                if a == author and sentence not in first_sentences:\n",
    "                    first_sentences.append(sentence)\n",
    "                    out = time + \", \" + s\n",
    "                    outfile.write(out + \"\\n\")\n",
    "                    print(out)\n",
    "                    return\n",
    "\n",
    "for file in glob.glob(\"xxxchatters_logs/subset/*.log\"):\n",
    "    lines = open(file, 'r', encoding='utf-8').readlines()\n",
    "    index = 0\n",
    "    for line in lines:\n",
    "        if not in_blocklist(blocklist, line.strip()): # blocked?\n",
    "            if \") Quit (\" in line or \") has left \" in line:\n",
    "                time = line[line.find(\"[\")+1:line.find(\"]\")]\n",
    "                author = line[line.find(\" * \")+3:line.find(\" (\")]\n",
    "                sentence = line[line.find(\">\")+2:]\n",
    "                \n",
    "                #print(\"left: \" + time + \", \" + author)# + \", \" + sentence)\n",
    "            if \") has joined \" in line:\n",
    "                time = line[line.find(\"[\")+1:line.find(\"]\")]\n",
    "                author = line[line.find(\" * \")+3:line.find(\" (\")]\n",
    "                #print(\"joined: \" + time + \", \" + author)\n",
    "                find_post(lines[index:], author)\n",
    "                \n",
    "        index += 1\n",
    "        \n",
    "outfile.close()"
   ]
  },
  {
   "cell_type": "code",
   "execution_count": 1,
   "metadata": {},
   "outputs": [
    {
     "name": "stdout",
     "output_type": "stream",
     "text": [
      "5173\n"
     ]
    }
   ],
   "source": [
    "# 1.2 look at word frequency\n",
    "\n",
    "import glob\n",
    "from utils import in_blocklist\n",
    "\n",
    "blocklist = []\n",
    "blocklist.append('AWAYLEN=307 MAXTARGETS=20 WALLCHOPS WATCH=128 WATCHOPTS=A SILENCE=15 MODES=12 CHANTYPES=# PREFIX')\n",
    "blocklist.append('- * -')\n",
    "blocklist.append('XxXChatters.Com')\n",
    "blocklist.append('XxXChatters')\n",
    "blocklist.append('This server was created')\n",
    "blocklist.append('operator(s) online')\n",
    "blocklist.append('is now your displayed host')\n",
    "blocklist.append('Caps set:')\n",
    "blocklist.append('MAXCHANNELS')\n",
    "blocklist.append('http')\n",
    "blocklist.append('Meltdown')\n",
    "blocklist.append('14')\n",
    "\n",
    "\n",
    "full_lines = []\n",
    "\n",
    "for file in glob.glob(\"xxxchatters_logs/subset/*.log\"):\n",
    "    lines = open(file, 'r', encoding='utf-8').readlines()\n",
    "    \n",
    "    for line in lines:\n",
    "        if not in_blocklist(blocklist, line.strip()): # blocked?\n",
    "            if line[0] is '[':\n",
    "                full_lines.append(line)\n",
    "            \n",
    "print(len(full_lines))"
   ]
  },
  {
   "cell_type": "code",
   "execution_count": 3,
   "metadata": {},
   "outputs": [
    {
     "name": "stdout",
     "output_type": "stream",
     "text": [
      "Different Authors: 303\n",
      "\n"
     ]
    }
   ],
   "source": [
    "authors = {}\n",
    "posts = set()\n",
    "all_posts = []\n",
    "\n",
    "for s in full_lines:\n",
    "    if s.find(\"<\") is not -1:\n",
    "        time = s[s.find(\"[\")+1:s.find(\"]\")]\n",
    "        author = s[s.find(\"<\")+1:s.find(\">\")]\n",
    "        sentence = s[s.find(\">\")+2:]\n",
    "        all_posts.append(sentence)\n",
    "        if author not in authors: # save things\n",
    "            authors[author] = [] # init list for author\n",
    "        authors[author].append(sentence.strip()) \n",
    "    \n",
    "print('Different Authors: ' + str(len(authors)) + '\\n')"
   ]
  },
  {
   "cell_type": "code",
   "execution_count": 5,
   "metadata": {},
   "outputs": [
    {
     "name": "stdout",
     "output_type": "stream",
     "text": [
      "Greetings to all...\n",
      "\n"
     ]
    }
   ],
   "source": [
    "for post in all_posts:\n",
    "    word_list = post.split()\n",
    "print(all_posts[1])"
   ]
  }
 ],
 "metadata": {
  "kernelspec": {
   "display_name": "Python 3",
   "language": "python",
   "name": "python3"
  },
  "language_info": {
   "codemirror_mode": {
    "name": "ipython",
    "version": 3
   },
   "file_extension": ".py",
   "mimetype": "text/x-python",
   "name": "python",
   "nbconvert_exporter": "python",
   "pygments_lexer": "ipython3",
   "version": "3.6.4"
  }
 },
 "nbformat": 4,
 "nbformat_minor": 2
}
