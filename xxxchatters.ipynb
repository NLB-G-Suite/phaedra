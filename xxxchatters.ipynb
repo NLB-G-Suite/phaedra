{
 "cells": [
  {
   "cell_type": "code",
   "execution_count": null,
   "metadata": {},
   "outputs": [],
   "source": [
    "import glob\n",
    "from utils import in_blocklist\n",
    "\n",
    "channels = []\n",
    "channels.append('#anal_whores')\n",
    "channels.append('#barelylegal')\n",
    "channels.append('#BDSM')\n",
    "channels.append('#bi')\n",
    "channels.append('#bigtitchannel')\n",
    "channels.append('#chat')\n",
    "channels.append('#cocksuckingwhores')\n",
    "channels.append('#cuckold')\n",
    "channels.append('#cum_fuck_me')\n",
    "channels.append('#cybersex')\n",
    "channels.append('#gangbang')\n",
    "channels.append('#pleasure_library_dungeon')\n",
    "channels.append('#pornjackers')\n",
    "channels.append('#roleplay')\n",
    "channels.append('#shemales')\n",
    "channels.append('#sub_Dom')\n",
    "channels.append('#submissive_slave_auction')\n",
    "channels.append('#the_playroom')\n",
    "channels.append('#women_are_property_of_men')\n",
    "\n",
    "blocklist = []\n",
    "blocklist.append('AWAYLEN=307 MAXTARGETS=20 WALLCHOPS WATCH=128 WATCHOPTS=A SILENCE=15 MODES=12 CHANTYPES=# PREFIX')\n",
    "blocklist.append('- * -')\n",
    "blocklist.append('XxXChatters.Com')\n",
    "blocklist.append('XxXChatters')\n",
    "blocklist.append('This server was created')\n",
    "blocklist.append('operator(s) online')\n",
    "blocklist.append('is now your displayed host')\n",
    "blocklist.append('Caps set:')\n",
    "blocklist.append('MAXCHANNELS')\n",
    "\n",
    "\n",
    "full_lines = []\n",
    "\n",
    "for file in glob.glob(\"xxxchatters_logs/*.log\"):\n",
    "    lines = open(file, 'r').readlines()\n",
    "    \n",
    "    for line in lines:\n",
    "        if not in_blocklist(blocklist, line.strip()): # blocked?\n",
    "            if line[0] is '[':\n",
    "                full_lines.append(line)\n",
    "            \n",
    "print(len(full_lines))"
   ]
  },
  {
   "cell_type": "code",
   "execution_count": null,
   "metadata": {},
   "outputs": [],
   "source": [
    "import re\n",
    "import random\n",
    "\n",
    "authors = {}\n",
    "\n",
    "for s in full_lines:\n",
    "    if s.find(\"<\") is not -1:\n",
    "        time = s[s.find(\"[\")+1:s.find(\"]\")]\n",
    "        author = s[s.find(\"<\")+1:s.find(\">\")]\n",
    "        sentence = s[s.find(\">\")+2:]\n",
    "        if author not in authors: # save things\n",
    "            authors[author] = [] # init list for author\n",
    "        authors[author].append(sentence.strip()) \n",
    "    \n",
    "print('Different Authors: ' + str(len(authors)) + '\\n')\n",
    "\n",
    "for i in range(100):\n",
    "    random_author = random.choice(authors.keys())\n",
    "    print(random_author)\n",
    "    \n",
    "for author, sentences in authors.iteritems():\n",
    "    print(len(sentences))"
   ]
  },
  {
   "cell_type": "code",
   "execution_count": null,
   "metadata": {},
   "outputs": [],
   "source": [
    "# save\n",
    "import utils\n",
    "utils.save_all('xxxchatters_all.txt', authors)"
   ]
  }
 ],
 "metadata": {
  "kernelspec": {
   "display_name": "Python 2",
   "language": "python",
   "name": "python2"
  },
  "language_info": {
   "codemirror_mode": {
    "name": "ipython",
    "version": 2
   },
   "file_extension": ".py",
   "mimetype": "text/x-python",
   "name": "python",
   "nbconvert_exporter": "python",
   "pygments_lexer": "ipython2",
   "version": "2.7.14"
  }
 },
 "nbformat": 4,
 "nbformat_minor": 2
}
