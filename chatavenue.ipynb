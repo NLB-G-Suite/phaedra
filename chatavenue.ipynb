{
 "cells": [
  {
   "cell_type": "code",
   "execution_count": null,
   "metadata": {},
   "outputs": [],
   "source": [
    "import random\n",
    "from utils import in_blocklist\n",
    "\n",
    "blocklist = []\n",
    "blocklist.append('Click to view the image.')\n",
    "blocklist.append('Cllck to vlew the Image')\n",
    "blocklist.append('sent an image')\n",
    "blocklist.append('sent an Image')\n",
    "blocklist.append('was klcked out')\n",
    "blocklist.append('In view ')\n",
    "blocklist.append('to view ')\n",
    "blocklist.append('View the imaue')\n",
    "blocklist.append('iew llw im')\n",
    "blocklist.append('Cllck lo vlew the Image')\n",
    "blocklist.append('view the image')\n",
    "blocklist.append('Ili( k [0')\n",
    "blocklist.append('Fullv non-nude and safe for work environment')\n",
    "\n",
    "files = []\n",
    "files.append('chatavenue_logs/text.txt')\n",
    "files.append('chatavenue_logs/text2.txt')\n",
    "files.append('chatavenue_logs/text3.txt')\n",
    "files.append('chatavenue_logs/text4.txt')\n",
    "files.append('chatavenue_logs/text5_blacklist_cost_credit_section.txt')\n",
    "files.append('chatavenue_logs/text6.txt')\n",
    "files.append('chatavenue_logs/text7.txt')\n",
    "\n",
    "authors = {}\n",
    "\n",
    "\n",
    "for file in files:\n",
    "    with open(file, 'r') as file:\n",
    "        lines = file.readlines()\n",
    "        for line in lines: # loop lines\n",
    "            stripped = line.strip()\n",
    "            if len(stripped) > 5: # skip empty\n",
    "                if not in_blocklist(blocklist, stripped): # blocked?\n",
    "                    author_sentence = stripped.split(':') # split by colon\n",
    "                    try:\n",
    "                        author = author_sentence[0]\n",
    "                        sentence = author_sentence[1]\n",
    "                        if author not in authors: # save things\n",
    "                            authors[author] = [] # init list for author\n",
    "                        authors[author].append(sentence) \n",
    "                    except:\n",
    "                        pass # not properly scraped\n",
    "                    \n",
    "print('Different Authors: ' + str(len(authors)) + '\\n')\n",
    "\n",
    "for i in range(100):\n",
    "    random_author = random.choice(authors.keys())\n",
    "    print(random_author)\n",
    "    \n",
    "for author, sentences in authors.iteritems():\n",
    "    print(len(sentences))\n",
    "                    "
   ]
  },
  {
   "cell_type": "code",
   "execution_count": null,
   "metadata": {},
   "outputs": [],
   "source": [
    "# scraper\n",
    "import phaedra\n",
    "\n",
    "scraper = phaedra.ChatAvenueScraper()\n",
    "scraper.run()"
   ]
  }
 ],
 "metadata": {
  "kernelspec": {
   "display_name": "Python 2",
   "language": "python",
   "name": "python2"
  },
  "language_info": {
   "codemirror_mode": {
    "name": "ipython",
    "version": 2
   },
   "file_extension": ".py",
   "mimetype": "text/x-python",
   "name": "python",
   "nbconvert_exporter": "python",
   "pygments_lexer": "ipython2",
   "version": "2.7.14"
  }
 },
 "nbformat": 4,
 "nbformat_minor": 2
}
