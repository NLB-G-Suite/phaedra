{
 "cells": [
  {
   "cell_type": "code",
   "execution_count": null,
   "metadata": {},
   "outputs": [],
   "source": [
    "# t-SNE http://www.scikit-yb.org/en/latest/api/text/tsne.html\n",
    "\n",
    "from yellowbrick.text import TSNEVisualizer\n",
    "from sklearn.feature_extraction.text import TfidfVectorizer, TfidfTransformer, CountVectorizer\n",
    "from sklearn.pipeline import make_pipeline\n",
    "from sklearn.feature_extraction.text import HashingVectorizer\n",
    "import codecs\n",
    "\n",
    "class Corpus(object):\n",
    "    def __init__(self, sentences):\n",
    "        self.documents = codecs.open(sentences, encoding=\"utf-8\").readlines()\n",
    "        self.document_list = []\n",
    "        for d in self.documents:\n",
    "            self.document_list.append([d])\n",
    "\n",
    "def load_corpus():\n",
    "    c = Corpus(\"all_posts01.txt\")\n",
    "    return c\n",
    "    \n",
    "\n",
    "corpus = load_corpus()\n"
   ]
  },
  {
   "cell_type": "code",
   "execution_count": null,
   "metadata": {},
   "outputs": [],
   "source": [
    "#tfidf  = TfidfVectorizer(stop_words='english')\n",
    "from sklearn.cluster import KMeans\n",
    "vectorizer = TfidfVectorizer(max_df=0.5, max_features=10000,\n",
    "                                 min_df=2,\n",
    "                                 use_idf=True)\n",
    "#transformer =  TfidfTransformer()\n",
    "#tfidf = make_pipeline(hasher,transformer)\n",
    "docs   = vectorizer.fit_transform(corpus.documents)\n",
    "\n",
    "print(docs)\n",
    "\n",
    "true_k = 500\n",
    "model = KMeans(n_clusters=true_k, init='k-means++', max_iter=100, n_init=1)\n",
    "model.fit(docs)\n",
    "\n",
    "print(\"Top terms per cluster:\")\n",
    "order_centroids = model.cluster_centers_.argsort()[:, ::-1]\n",
    "terms = vectorizer.get_feature_names()\n",
    "\n",
    "#for i in range(true_k):\n",
    "    #print(\"Cluster %d:\" % i)\n",
    "    #for ind in order_centroids[i, :10]:\n",
    "        #print(' %s' % terms[ind])\n",
    "        "
   ]
  },
  {
   "cell_type": "code",
   "execution_count": null,
   "metadata": {},
   "outputs": [],
   "source": [
    "tsne = TSNEVisualizer(labels=[\"documents\"])\n",
    "tsne.fit(docs)\n",
    "tsne.poof()"
   ]
  },
  {
   "cell_type": "code",
   "execution_count": null,
   "metadata": {},
   "outputs": [],
   "source": [
    "%matplotlib inline\n",
    "import matplotlib.pyplot as plt\n",
    "from sklearn.cluster import MiniBatchKMeans\n",
    "from sklearn.decomposition import IncrementalPCA, FastICA\n",
    "from sklearn.neighbors import NearestNeighbors\n",
    "from scipy.spatial.distance import euclidean\n",
    "import numpy as np\n",
    "\n",
    "stri = 'Any girl being topless hey'\n",
    "response = vectorizer.transform([stri])\n",
    "r = [((i, j), response[i,j]) for i, j in zip(*response.nonzero())]\n",
    "for entry in r:\n",
    "    word = terms[entry[0][1]]\n",
    "    confidence = entry[1]\n",
    "    print(word)\n",
    "    print(float(confidence))\n"
   ]
  },
  {
   "cell_type": "code",
   "execution_count": null,
   "metadata": {},
   "outputs": [],
   "source": [
    "import gensim\n",
    "import codecs\n",
    "# used for loading or saving\n",
    "model_file = 'C:\\\\Users\\\\mrzl\\\\phaedra\\short_text.doc2vec'\n",
    "filename = 'C:\\\\Users\\\\mrzl\\\\phaedra\\short_text.txt'\n",
    "\n",
    "sentences = []\n",
    "from random import shuffle\n",
    "\n",
    "for uid, line in enumerate(codecs.open(filename, encoding='utf-8')):\n",
    "    ls = gensim.models.doc2vec.LabeledSentence(words=line.split(), tags=['SENT_%s' % uid])\n",
    "    sentences.append(ls)\n",
    "print(len(sentences),'sentences')\n",
    "\n",
    "\n",
    "# Training the doc2vec model\n",
    "\n",
    "# tutorial https://rare-technologies.com/doc2vec-tutorial/\n",
    "# proposes shuffling or learning reate adjustment. we gonna do both\n",
    "# in total 20 epochs\n",
    "model = gensim.models.Doc2Vec(alpha=0.025, min_alpha=0.025)  # use fixed learning rate\n",
    "print('building vocab') \n",
    "model.build_vocab(sentences)\n",
    "\n",
    "base_alpha = model.alpha\n",
    "base_min_alpha = model.min_alpha\n",
    "\n",
    "for mepoch in range(2):\n",
    "    model.alpha = base_alpha \n",
    "    model.min_alpha = base_min_alpha\n",
    "    for epoch in range(10):\n",
    "        print('epoch',mepoch * 10 + epoch)\n",
    "        model.train(sentences, total_examples=model.corpus_count, epochs=5)\n",
    "        model.alpha -= 0.002  # decrease the learning rate\n",
    "        model.min_alpha = model.alpha  # fix the learning rate, no decay\n",
    "    shuffle(sentences)\n",
    "\n",
    "# saving the model    \n",
    "model.save(model_file)\n",
    "\n"
   ]
  },
  {
   "cell_type": "code",
   "execution_count": 1,
   "metadata": {},
   "outputs": [
    {
     "name": "stderr",
     "output_type": "stream",
     "text": [
      "C:\\Users\\mrzl\\Anaconda3\\lib\\site-packages\\gensim\\utils.py:1197: UserWarning: detected Windows; aliasing chunkize to chunkize_serial\n",
      "  warnings.warn(\"detected Windows; aliasing chunkize to chunkize_serial\")\n"
     ]
    },
    {
     "name": "stdout",
     "output_type": "stream",
     "text": [
      "1794 sentences\n",
      "anyone into bro/sis fun?\n",
      "similar sentence 10\n",
      "\n",
      "SIMILAR SENTENCES\n",
      "\n",
      "any guys into underage curvy sluts?\n",
      "any guys into gangbangchat?\n",
      "any ladies into phoneeeeeeeeeeeeeeee or mint\n",
      "hay any women into black cock?Cost\n",
      "any ladies into phon\n",
      "any ladies into phoneeeeor micc. sexx\n",
      "any ladies into phoneeeeeeee or mioc\n",
      "any girls into proana here?\n",
      "Hello, anyone on here into married guys?\n",
      "anyone want naughty fun?\n"
     ]
    },
    {
     "name": "stderr",
     "output_type": "stream",
     "text": [
      "C:\\Users\\mrzl\\Anaconda3\\lib\\site-packages\\ipykernel_launcher.py:20: DeprecationWarning: Call to deprecated `LabeledSentence` (Class will be removed in 4.0.0, use TaggedDocument instead).\n"
     ]
    }
   ],
   "source": [
    "import gensim\n",
    "import codecs\n",
    "# used for loading or saving\n",
    "model_file = 'C:\\\\Users\\\\mrzl\\\\phaedra\\\\all_posts01.doc2vec'\n",
    "\n",
    "# Tiny helper\n",
    "def nice_print(tagged_doc):\n",
    "    return (' '.join(sentences[int(tagged_doc[0][5:])][0]))\n",
    "\n",
    "# Build sentence list (each sentence needs at least 1 tag)\n",
    "filename = 'C:\\\\Users\\\\mrzl\\\\phaedra\\\\all_posts01.txt'\n",
    "\n",
    "model_file = 'C:\\\\Users\\\\mrzl\\\\phaedra\\short_text.doc2vec'\n",
    "filename = 'C:\\\\Users\\\\mrzl\\\\phaedra\\short_text.txt'\n",
    "\n",
    "sentences = []\n",
    "from random import shuffle\n",
    "\n",
    "for uid, line in enumerate(codecs.open(filename, encoding='utf-8')):\n",
    "    ls = gensim.models.doc2vec.LabeledSentence(words=line.split(), tags=['SENT_%s' % uid])\n",
    "    sentences.append(ls)\n",
    "print(len(sentences),'sentences')\n",
    "\n",
    "model_loaded = gensim.models.Doc2Vec.load(model_file)\n",
    "\n",
    "# Test: printing sentence 9 and getting the most similar ones.\n",
    "\n",
    "number = 201\n",
    "print(' '.join(sentences[number][0]))\n",
    "sims = model_loaded.docvecs.most_similar('SENT_'+str(number))\n",
    "print('similar sentence',len(sims))\n",
    "print('\\nSIMILAR SENTENCES\\n')\n",
    "for sim in sims:\n",
    "    print(nice_print(sim))\n",
    "\n",
    "\n",
    "\n",
    "\n"
   ]
  },
  {
   "cell_type": "code",
   "execution_count": 3,
   "metadata": {},
   "outputs": [
    {
     "data": {
      "text/plain": [
       "<matplotlib.figure.Figure at 0x29c1a1f2278>"
      ]
     },
     "metadata": {},
     "output_type": "display_data"
    }
   ],
   "source": [
    "from sklearn.manifold import TSNE\n",
    "import matplotlib.pyplot as plt\n",
    "\n",
    "X = model_loaded[model_loaded.wv.vocab]\n",
    "\n",
    "tsne = TSNE(n_components=2)\n",
    "X_tsne = tsne.fit_transform(X)\n",
    "plt.scatter(X_tsne[:, 0], X_tsne[:, 1])\n",
    "plt.savefig(\"out.png\")"
   ]
  },
  {
   "cell_type": "code",
   "execution_count": 6,
   "metadata": {},
   "outputs": [
    {
     "name": "stdout",
     "output_type": "stream",
     "text": [
      "[[-0.08268186 -0.4614209  -0.80519325 ...  0.1912371  -0.5299137\n",
      "  -0.1899935 ]\n",
      " [-0.17405991 -0.08209605 -0.02597687 ... -0.7620915  -0.34852183\n",
      "  -0.21675865]\n",
      " [-0.5937592  -0.3934616  -1.2033886  ... -0.37822562 -1.1649827\n",
      "   0.18726872]\n",
      " ...\n",
      " [-0.2771629  -0.26555333  0.4498138  ... -0.03167247 -0.30459508\n",
      "  -0.44223824]\n",
      " [ 0.6764322  -0.6037198   0.81406796 ...  0.4093952  -0.4386157\n",
      "  -0.287421  ]\n",
      " [ 0.5521364  -0.46156594  0.14188148 ... -0.30080172 -0.158037\n",
      "  -0.44775605]]\n"
     ]
    },
    {
     "data": {
      "image/png": "[encoded data removed]",
      "text/plain": [
       "<matplotlib.figure.Figure at 0x29c1e2ca320>"
      ]
     },
     "metadata": {},
     "output_type": "display_data"
    }
   ],
   "source": []
  },
  {
   "cell_type": "code",
   "execution_count": null,
   "metadata": {},
   "outputs": [],
   "source": [
    "print (' '.join(sentences[9][0]))\n",
    "sims = model.docvecs.most_similar('SENT_10')\n",
    "print('similar sentence',len(sims))\n",
    "print('\\nSIMILAR SENTENCES\\n')\n",
    "for sim in sims:\n",
    "    print(nice_print(sim))\n",
    "\n",
    "\n",
    "# Tiny helper\n",
    "def nice_print(tagged_doc):\n",
    "    return(' '.join(sentences[int(tagged_doc[0][5:])][0]))"
   ]
  }
 ],
 "metadata": {
  "kernelspec": {
   "display_name": "Python 3",
   "language": "python",
   "name": "python3"
  },
  "language_info": {
   "codemirror_mode": {
    "name": "ipython",
    "version": 3
   },
   "file_extension": ".py",
   "mimetype": "text/x-python",
   "name": "python",
   "nbconvert_exporter": "python",
   "pygments_lexer": "ipython3",
   "version": "3.6.4"
  }
 },
 "nbformat": 4,
 "nbformat_minor": 2
}
